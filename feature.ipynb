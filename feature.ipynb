{
 "cells": [
  {
   "cell_type": "code",
   "execution_count": 1,
   "metadata": {},
   "outputs": [],
   "source": [
    "# 整理 json 使用的工具\n",
    "import csv\n",
    "import json\n",
    "# 執行 command 的時候用的\n",
    "import os\n",
    "# 匯入 正規表達式\n",
    "import re\n",
    "# 子處理程序，用來取代 os.system 的功能\n",
    "import subprocess\n",
    "import time\n",
    "# 強制等待 (執行期間休息一下)\n",
    "from time import sleep\n",
    "\n",
    "import numpy as np\n",
    "import pandas as pd"
   ]
  },
  {
   "cell_type": "code",
   "execution_count": null,
   "metadata": {},
   "outputs": [],
   "source": [
    "classPath = '/Users/allentsai/python_web_scraping-master/judgement_file/judge案由分類/Crime_classify/Crime_總表.csv'\n",
    "crimeClassifyDocs = pd.read_csv(classPath)\n",
    "crimeClassifyDocs.head()"
   ]
  },
  {
   "cell_type": "code",
   "execution_count": null,
   "metadata": {},
   "outputs": [],
   "source": [
    "classify = crimeClassifyDocs.loc[0,'罪刑classify']\n",
    "type(classify)"
   ]
  },
  {
   "cell_type": "code",
   "execution_count": null,
   "metadata": {},
   "outputs": [],
   "source": [
    "for i in crimeClassifyDocs.loc[:,'罪刑classify']:\n",
    "    print(i,type(i))"
   ]
  },
  {
   "cell_type": "code",
   "execution_count": null,
   "metadata": {},
   "outputs": [],
   "source": [
    "crimeForm = crimeClassifyDocs.loc[:,'罪名總表']\n",
    "for i in range(len(crimeForm)):\n",
    "    print(crimeForm[i],type(crimeForm[i]))"
   ]
  },
  {
   "cell_type": "code",
   "execution_count": 3,
   "metadata": {},
   "outputs": [],
   "source": [
    "judge_crime = '過失傷害罪'\n",
    "classPath = '/Users/allentsai/python_web_scraping-master/judgement_file/judge案由分類/Crime_classify/Crime_總表.csv'\n",
    "crimeClassifyDocs = pd.read_csv(classPath)\n"
   ]
  },
  {
   "cell_type": "code",
   "execution_count": 6,
   "metadata": {},
   "outputs": [
    {
     "name": "stdout",
     "output_type": "stream",
     "text": [
      "12\n"
     ]
    }
   ],
   "source": [
    "judge_crime = '其他'\n",
    "crimeCategory = '0'\n",
    "crimeForm = list(crimeClassifyDocs.loc[:, '罪名總表'])\n",
    "\n",
    "if judge_crime in crimeForm:\n",
    "    for i in range(len(crimeForm)):\n",
    "        if crimeForm[i] == judge_crime:\n",
    "            print(crimeForm[i])\n",
    "            crimeCategory = str(crimeClassifyDocs.loc[i, '罪刑classify'])\n",
    "else:\n",
    "    crimeCategory = 12\n",
    "print(crimeCategory)"
   ]
  }
 ],
 "metadata": {
  "kernelspec": {
   "display_name": "Python 3",
   "language": "python",
   "name": "python3"
  },
  "language_info": {
   "codemirror_mode": {
    "name": "ipython",
    "version": 3
   },
   "file_extension": ".py",
   "mimetype": "text/x-python",
   "name": "python",
   "nbconvert_exporter": "python",
   "pygments_lexer": "ipython3",
   "version": "3.10.7 (v3.10.7:6cc6b13308, Sep  5 2022, 14:02:52) [Clang 13.0.0 (clang-1300.0.29.30)]"
  },
  "orig_nbformat": 4,
  "vscode": {
   "interpreter": {
    "hash": "aee8b7b246df8f9039afb4144a1f6fd8d2ca17a180786b69acc140d282b71a49"
   }
  }
 },
 "nbformat": 4,
 "nbformat_minor": 2
}

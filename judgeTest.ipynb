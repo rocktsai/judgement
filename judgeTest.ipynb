{
 "cells": [
  {
   "cell_type": "code",
   "execution_count": 2,
   "metadata": {},
   "outputs": [],
   "source": [
    "# 整理 json 使用的工具\n",
    "import json\n",
    "import csv\n",
    "\n",
    "# 執行 command 的時候用的\n",
    "import os\n",
    "\n",
    "# 強制等待 (執行期間休息一下)\n",
    "from time import sleep\n",
    "import time\n",
    "\n",
    "# 子處理程序，用來取代 os.system 的功能\n",
    "import subprocess\n",
    "\n",
    "import pandas as pd\n",
    "import numpy as np\n",
    "\n",
    "# 匯入 正規表達式\n",
    "import re\n",
    "\n",
    "from pathlib import Path\n"
   ]
  },
  {
   "cell_type": "code",
   "execution_count": 3,
   "metadata": {},
   "outputs": [
    {
     "ename": "NameError",
     "evalue": "name '__file__' is not defined",
     "output_type": "error",
     "traceback": [
      "\u001b[0;31m---------------------------------------------------------------------------\u001b[0m",
      "\u001b[0;31mNameError\u001b[0m                                 Traceback (most recent call last)",
      "Cell \u001b[0;32mIn [3], line 1\u001b[0m\n\u001b[0;32m----> 1\u001b[0m \u001b[39mprint\u001b[39m(Path(\u001b[39m__file__\u001b[39;49m))\n",
      "\u001b[0;31mNameError\u001b[0m: name '__file__' is not defined"
     ]
    }
   ],
   "source": [
    "print(Path(__file__))"
   ]
  },
  {
   "cell_type": "code",
   "execution_count": null,
   "metadata": {},
   "outputs": [],
   "source": [
    "with open('/Users/allentsai/python_web_scraping-master/judgement_file/judge案由分類/地方法院_10年rawdata.json','r',encoding='utf-8') as js:\n",
    "    strJs = js.read()\n",
    "listJudge = json.loads(strJs)"
   ]
  },
  {
   "cell_type": "code",
   "execution_count": null,
   "metadata": {},
   "outputs": [],
   "source": [
    "count_have = 0\n",
    "count_none = 0\n",
    "for i in range(len(listJudge)):\n",
    "    if '共同犯' in listJudge[i]['judge_content']:\n",
    "        count_have += 1\n",
    "        print(f'找到{count_have}筆')\n",
    "    else:\n",
    "        count_none += 1\n",
    "        print(f'有{count_none}筆非共同犯')\n",
    "print(f'共{count_have}筆共同犯')\n",
    "print(f'共{count_none}筆\"非\"共同犯')      "
   ]
  },
  {
   "cell_type": "code",
   "execution_count": null,
   "metadata": {},
   "outputs": [],
   "source": [
    "df = pd.read_csv('/Users/allentsai/python_web_scraping-master/judgement_file/judge案由分類/所有地院10年_rawdata.csv')\n",
    "df.head()"
   ]
  },
  {
   "cell_type": "code",
   "execution_count": null,
   "metadata": {},
   "outputs": [],
   "source": [
    "df.index"
   ]
  },
  {
   "cell_type": "code",
   "execution_count": null,
   "metadata": {},
   "outputs": [],
   "source": [
    "df.iloc[1]['judge_content']"
   ]
  },
  {
   "cell_type": "code",
   "execution_count": null,
   "metadata": {},
   "outputs": [],
   "source": [
    "with open('/Users/allentsai/python_web_scraping-master/judgement_file/judge案由分類/所有地院10年_rawdata.json','r',encoding='utf-8') as js:\n",
    "    strJs = js.read()\n",
    "listTest = json.loads(strJs)\n",
    "len(listTest)"
   ]
  },
  {
   "cell_type": "code",
   "execution_count": null,
   "metadata": {},
   "outputs": [],
   "source": [
    "type(listTest)"
   ]
  },
  {
   "cell_type": "code",
   "execution_count": null,
   "metadata": {},
   "outputs": [],
   "source": [
    "l1 = listTest[1]['judge_content']\n",
    "l1"
   ]
  },
  {
   "cell_type": "code",
   "execution_count": null,
   "metadata": {},
   "outputs": [],
   "source": [
    "type(l1)"
   ]
  },
  {
   "cell_type": "code",
   "execution_count": null,
   "metadata": {},
   "outputs": [],
   "source": [
    "reg = r'[犯因][\\u4E00-\\u9FFF]*傷害[\\u4E00-\\u9FFF]*，處[\\u4E00-\\u9FFF]*'\n",
    "m = re.search(reg, l1)[0]\n",
    "print(m)"
   ]
  },
  {
   "cell_type": "code",
   "execution_count": null,
   "metadata": {},
   "outputs": [],
   "source": [
    "a = m.split('，')\n",
    "a"
   ]
  },
  {
   "cell_type": "code",
   "execution_count": null,
   "metadata": {},
   "outputs": [],
   "source": [
    "crime = a[0][1:]\n",
    "result = a[1][1:]\n",
    "# print(f'罪名:{crime} , 刑責:{result}')\n",
    "type(crime)"
   ]
  },
  {
   "cell_type": "code",
   "execution_count": null,
   "metadata": {},
   "outputs": [],
   "source": [
    "num={\"壹\":1, \"貳\":2 ,\"參\":3, \"肆\":4, \"伍\":5, \"陸\":6, \"柒\":7, \"捌\":8, \"玖\":9, \"拾\":10}\n",
    "unit={\"年\":365, \"月\":30, \"日\":1}\n"
   ]
  },
  {
   "cell_type": "code",
   "execution_count": null,
   "metadata": {},
   "outputs": [],
   "source": [
    "a = ['拘役參拾伍日','有期徒刑壹年捌月']\n",
    "b=[]\n",
    "for i in a:\n",
    "    for j in i:\n",
    "        if j in num:\n",
    "            b.append(num.get(j))\n",
    "            # print(num.get(j))\n",
    "        elif j in unit:\n",
    "            b.append(j)\n",
    "            # print(j)\n",
    "        else:\n",
    "            print(j)\n",
    "print(b)"
   ]
  },
  {
   "cell_type": "code",
   "execution_count": null,
   "metadata": {},
   "outputs": [],
   "source": [
    "a = ['拘役參拾伍日','有期徒刑壹年捌月']\n",
    "transfer=[]\n",
    "transfer2=[]\n",
    "transfer3=[]\n",
    "number=0\n",
    "judge=[]\n",
    "\n",
    "# 將判刑欄位中每一筆取出\n",
    "for i in a:\n",
    "    transfer=[]\n",
    "    transfer2=[]\n",
    "    transfer3=[]\n",
    "    number=0\n",
    "# 將每一筆判刑內容中文字逐一取出\n",
    "    for j in i:\n",
    "# 將國字數字和單位轉換成數字list\n",
    "        if j in num:\n",
    "            transfer.append(num.get(j))\n",
    "        elif j in unit:\n",
    "            transfer.append(j)\n",
    "    print(f'transfer={transfer}')\n",
    "# 將transfer list中數字做運算\n",
    "    for n in transfer:\n",
    "        if n in unit:\n",
    "            transfer2.append(number)\n",
    "            transfer2.append(n)\n",
    "            number=0\n",
    "        elif n !=10:\n",
    "            number+=n\n",
    "        elif n ==10:\n",
    "            if number==0:\n",
    "                number+=10\n",
    "            else:\n",
    "                number*=10\n",
    "    print(f'transfer2={transfer2}')\n",
    "# 將數字和單位做運算\n",
    "    for m in transfer2:\n",
    "        if m in unit:\n",
    "            number*=unit[m]\n",
    "            transfer3.append(number)\n",
    "            number=0\n",
    "        else:\n",
    "            number+=m\n",
    "    print(f'transfer3={transfer3}')\n",
    "# 將刑期加總並加到csv中\n",
    "    number=sum(transfer3)\n",
    "    print(f'number={number}',type(number))\n",
    "    # judge.append(number)\n",
    "    # print(judge)\n"
   ]
  },
  {
   "cell_type": "code",
   "execution_count": null,
   "metadata": {},
   "outputs": [],
   "source": [
    "df = pd.read_csv('/Users/allentsai/python_web_scraping-master/judgement_file/judge案由分類/所有地院10年_rawdata.csv')\n",
    "df.head(20)"
   ]
  },
  {
   "cell_type": "code",
   "execution_count": null,
   "metadata": {},
   "outputs": [],
   "source": [
    "df.loc[17]['judge_content']"
   ]
  },
  {
   "cell_type": "code",
   "execution_count": null,
   "metadata": {},
   "outputs": [],
   "source": [
    "type(df['judge_resultInt'])"
   ]
  },
  {
   "cell_type": "code",
   "execution_count": null,
   "metadata": {},
   "outputs": [],
   "source": [
    "df.describe()"
   ]
  },
  {
   "cell_type": "code",
   "execution_count": null,
   "metadata": {},
   "outputs": [],
   "source": [
    "df.dtypes"
   ]
  },
  {
   "cell_type": "code",
   "execution_count": null,
   "metadata": {},
   "outputs": [],
   "source": [
    "dir(df)"
   ]
  },
  {
   "cell_type": "code",
   "execution_count": null,
   "metadata": {},
   "outputs": [],
   "source": []
  },
  {
   "cell_type": "code",
   "execution_count": null,
   "metadata": {},
   "outputs": [],
   "source": [
    "path = '/Users/allentsai/python_web_scraping-master/judgement_file/judge案由分類/feature_1207_12.csv'\n",
    "df = pd.read_csv(path,encoding='utf-8')\n",
    "df.head()"
   ]
  },
  {
   "cell_type": "code",
   "execution_count": null,
   "metadata": {},
   "outputs": [],
   "source": [
    "data = df.drop(df.iloc[:,::2], axis = 1)\n",
    "len(data.columns),type(data),data"
   ]
  },
  {
   "cell_type": "code",
   "execution_count": null,
   "metadata": {},
   "outputs": [],
   "source": [
    "data_list = []"
   ]
  },
  {
   "cell_type": "code",
   "execution_count": null,
   "metadata": {},
   "outputs": [],
   "source": [
    "data1 = data.iloc[:,0].dropna()#.values.tolist()\n",
    "type(data1),data1"
   ]
  },
  {
   "cell_type": "code",
   "execution_count": null,
   "metadata": {},
   "outputs": [],
   "source": [
    "data_list = []\n",
    "for i in range(len(data.columns)):\n",
    "    data_clean = data.iloc[:,i].dropna()#.values.tolist()\n",
    "    for j in data_clean:\n",
    "        data_list.append(j)\n",
    "\n",
    "data_list"
   ]
  },
  {
   "cell_type": "code",
   "execution_count": null,
   "metadata": {},
   "outputs": [],
   "source": []
  },
  {
   "cell_type": "code",
   "execution_count": null,
   "metadata": {},
   "outputs": [],
   "source": [
    "T_277_count, T_278_count, T_278_att_count, T_284_count, Recht_count= 1,2,4,4,0\n",
    "\n",
    "if Recht_count > 0:\n",
    "    Crime_pred = '無罪'\n",
    "else:\n",
    "    Crime_pred = max(T_277_count, T_278_count, T_278_att_count, T_284_count)\n",
    "\n",
    "\n",
    "Crime_pred"
   ]
  },
  {
   "cell_type": "code",
   "execution_count": null,
   "metadata": {},
   "outputs": [],
   "source": []
  },
  {
   "cell_type": "code",
   "execution_count": null,
   "metadata": {},
   "outputs": [],
   "source": [
    "T_277_count, T_277_name = 0, '普通傷害罪'           # T_277\n",
    "T_278_count, T_278_name = 0, '重傷害罪'             # T_278\n",
    "T_278_att_count, T_278_att_name = 0, '重傷害未遂'   # T_278_att\n",
    "T_284_count, T_284_name = 0, '過失傷害'             # T_284\n",
    "Recht_count, Recht_name = 0, '無罪'                # Recht\n",
    "\n",
    "T_277 = [10,'普通傷害罪']\n",
    "T_278 = [8,'重傷害罪']\n",
    "T_278_att = [3,'重傷害未遂']\n",
    "T_284 = [4,'過失傷害']\n",
    "\n",
    "max(T_277[0],T_278[0],T_278_att[0],T_284[0])"
   ]
  },
  {
   "cell_type": "code",
   "execution_count": null,
   "metadata": {},
   "outputs": [],
   "source": [
    "T_277[0] = 100\n",
    "T_277"
   ]
  },
  {
   "cell_type": "code",
   "execution_count": null,
   "metadata": {},
   "outputs": [],
   "source": [
    "max(T_277,T_278,T_278_att,T_284)[1]"
   ]
  },
  {
   "cell_type": "code",
   "execution_count": null,
   "metadata": {},
   "outputs": [],
   "source": [
    "T_278_score = [0,'重傷害罪']\n",
    "T_278_att_score = [0,'重傷害未遂']\n",
    "T_284_score = [0,'過失傷害']\n",
    "T_277_score = [0,'普通傷害罪']\n",
    "Recht_score = [1, '無罪']"
   ]
  },
  {
   "cell_type": "code",
   "execution_count": null,
   "metadata": {},
   "outputs": [],
   "source": [
    "T_278_score[0] += 1 \n",
    "T_278_score\n"
   ]
  },
  {
   "cell_type": "code",
   "execution_count": null,
   "metadata": {},
   "outputs": [],
   "source": [
    "T_278_score = [0,'重傷害罪']\n",
    "T_278_att_score = [0,'重傷害未遂']\n",
    "T_284_score = [0,'過失傷害']\n",
    "T_277_score = [0,'普通傷害罪']\n",
    "Recht_score = [0, '無罪']\n",
    "if Recht_score[0] > 0:\n",
    "    Crime_pred = Recht_score[1]\n",
    "elif max(T_278_score, T_278_att_score, T_284_score, T_277_score)[0] == 0:\n",
    "    Crime_pred = Recht_score[1]\n",
    "else:\n",
    "    Crime_pred = max(T_278_score, T_278_att_score,\n",
    "                         T_284_score, T_277_score)[1]\n",
    "\n",
    "max(T_278_score, T_278_att_score, T_284_score, T_277_score)[0] == 0\n",
    "print(Crime_pred)"
   ]
  },
  {
   "cell_type": "code",
   "execution_count": null,
   "metadata": {},
   "outputs": [],
   "source": [
    "rawData = pd.read_csv('/Users/allentsai/python_web_scraping-master/judgement_file/judge案由分類/所有地院10年_rawdata.csv')"
   ]
  },
  {
   "cell_type": "code",
   "execution_count": null,
   "metadata": {},
   "outputs": [],
   "source": [
    "feature = pd.read_csv('/Users/allentsai/python_web_scraping-master/judgement_file/judge案由分類/feature_罪刑預測.csv')"
   ]
  },
  {
   "cell_type": "code",
   "execution_count": null,
   "metadata": {},
   "outputs": [],
   "source": [
    "rawData.head(10)"
   ]
  },
  {
   "cell_type": "code",
   "execution_count": null,
   "metadata": {},
   "outputs": [],
   "source": [
    "feature.head(30)"
   ]
  },
  {
   "cell_type": "code",
   "execution_count": null,
   "metadata": {},
   "outputs": [],
   "source": [
    "filter = feature['Match'] == 0\n",
    "feature[filter]#['Match'] # 38047筆"
   ]
  },
  {
   "cell_type": "code",
   "execution_count": null,
   "metadata": {},
   "outputs": [],
   "source": [
    "match = 0\n",
    "if '過失傷害' in '汽車駕駛人無駕駛執照駕車過失傷害罪':\n",
    "    match = 1\n",
    "    print(match)\n",
    "else:\n",
    "    print('different')"
   ]
  },
  {
   "cell_type": "code",
   "execution_count": null,
   "metadata": {},
   "outputs": [],
   "source": [
    "教育程度 = 0;罪責 = 0;傷害方式 = 0;下手力道 = 0;攻擊部位 = 0;傷害結果 = 0;犯後態度 = 0;坦承情況 = 0\n",
    "賠償狀況 = 0;經濟狀況 = 0;被告身心狀況 = 0;被害身心狀況 = 0;和解狀況 = 0;告訴人和被告人之關係 = 0;法官心證 = 0"
   ]
  },
  {
   "cell_type": "code",
   "execution_count": null,
   "metadata": {},
   "outputs": [],
   "source": [
    "教育程度, 罪責, 傷害方式, 下手力道, 攻擊部位, 傷害結果, 犯後態度, 坦承情況, 賠償狀況, 經濟狀況, 被告身心狀況, 被害身心狀況, 和解狀況, 告訴人和被告人之關係, 法官心證 = 0"
   ]
  },
  {
   "cell_type": "code",
   "execution_count": null,
   "metadata": {},
   "outputs": [],
   "source": [
    "print(教育程度, 罪責, 傷害方式, 下手力道, 攻擊部位, 傷害結果, 犯後態度, 坦承情況,\n",
    "              賠償狀況, 經濟狀況, 被告身心狀況, 被害身心狀況, 和解狀況, 告訴人和被告人之關係, 法官心證)\n"
   ]
  },
  {
   "cell_type": "code",
   "execution_count": null,
   "metadata": {},
   "outputs": [],
   "source": []
  },
  {
   "cell_type": "code",
   "execution_count": null,
   "metadata": {},
   "outputs": [],
   "source": [
    "feature = pd.read_csv('/Users/allentsai/python_web_scraping-master/judgement_file/judge案由分類/Judgement_Feature.csv')\n",
    "feature.head(10)"
   ]
  },
  {
   "cell_type": "code",
   "execution_count": null,
   "metadata": {},
   "outputs": [],
   "source": [
    "feature.loc[:,'judge_crime']"
   ]
  },
  {
   "cell_type": "code",
   "execution_count": null,
   "metadata": {},
   "outputs": [],
   "source": [
    "judge_crime = feature.loc[:,'judge_crime'].unique()\n",
    "judge_crime"
   ]
  },
  {
   "cell_type": "code",
   "execution_count": null,
   "metadata": {},
   "outputs": [],
   "source": [
    "len(judge_crime)"
   ]
  },
  {
   "cell_type": "code",
   "execution_count": null,
   "metadata": {},
   "outputs": [],
   "source": [
    "judge_crime_DF = pd.DataFrame(judge_crime)"
   ]
  },
  {
   "cell_type": "code",
   "execution_count": null,
   "metadata": {},
   "outputs": [],
   "source": [
    "judge_crime_DF.to_csv('/Users/allentsai/python_web_scraping-master/judgement_file/judge案由分類/Crime_總表.csv',index=None, encoding='utf-8')"
   ]
  },
  {
   "cell_type": "code",
   "execution_count": null,
   "metadata": {},
   "outputs": [],
   "source": [
    "with open('/Users/allentsai/python_web_scraping-master/judgement_file/judge案由分類/Judgement_Feature.json','r',encoding='utf-8') as js:\n",
    "    strJs = js.read()\n",
    "listJudge = json.loads(strJs)\n",
    "listJudge"
   ]
  },
  {
   "cell_type": "code",
   "execution_count": null,
   "metadata": {},
   "outputs": [],
   "source": [
    "listJudge[0]"
   ]
  },
  {
   "cell_type": "code",
   "execution_count": null,
   "metadata": {},
   "outputs": [],
   "source": [
    "listJudge[0]['judge_crimePred']"
   ]
  },
  {
   "cell_type": "code",
   "execution_count": null,
   "metadata": {},
   "outputs": [],
   "source": [
    "df = pd.read_csv('/Users/allentsai/python_web_scraping-master/judgement_file/judge案由分類/所有地院10年_rawdata.csv')"
   ]
  },
  {
   "cell_type": "code",
   "execution_count": null,
   "metadata": {},
   "outputs": [],
   "source": [
    "df.head()"
   ]
  },
  {
   "cell_type": "code",
   "execution_count": null,
   "metadata": {},
   "outputs": [],
   "source": [
    "a = 0\n",
    "for i in range(len(df)):\n",
    "    if '易服勞役' in df.loc[i,'judge_content']:\n",
    "        a += 1\n",
    "\n",
    "print(a)"
   ]
  },
  {
   "cell_type": "code",
   "execution_count": null,
   "metadata": {},
   "outputs": [],
   "source": []
  },
  {
   "cell_type": "code",
   "execution_count": null,
   "metadata": {},
   "outputs": [],
   "source": [
    "classPath = '/Users/allentsai/python_web_scraping-master/judgement_file/judge案由分類/Crime_classify/Crime_總表.csv'\n",
    "crimeClassifyDocs = pd.read_csv(classPath)\n",
    "crimeClassifyDocs.head()"
   ]
  },
  {
   "cell_type": "code",
   "execution_count": null,
   "metadata": {},
   "outputs": [],
   "source": [
    "classify = crimeClassifyDocs.loc[0,'罪刑classify']\n",
    "type(classify)"
   ]
  },
  {
   "cell_type": "code",
   "execution_count": null,
   "metadata": {},
   "outputs": [],
   "source": [
    "for i in crimeClassifyDocs.loc[:,'罪刑classify']:\n",
    "    print(i,type(i))"
   ]
  },
  {
   "cell_type": "code",
   "execution_count": null,
   "metadata": {},
   "outputs": [],
   "source": [
    "crimeForm = crimeClassifyDocs.loc[:,'罪名總表']\n",
    "for i in range(len(crimeForm)):\n",
    "    print(crimeForm[i],type(crimeForm[i]))"
   ]
  },
  {
   "cell_type": "code",
   "execution_count": 8,
   "metadata": {},
   "outputs": [
    {
     "name": "stdout",
     "output_type": "stream",
     "text": [
      "\n"
     ]
    }
   ],
   "source": [
    "judge_crime = '過失傷害罪'\n",
    "classPath = '/Users/allentsai/python_web_scraping-master/judgement_file/judge案由分類/Crime_classify/Crime_總表.csv'\n",
    "crimeClassifyDocs = pd.read_csv(classPath)\n",
    "crimeCategory = ''\n",
    "crimeForm = crimeClassifyDocs.loc[:, '罪名總表']\n",
    "\n",
    "if judge_crime in crimeForm:\n",
    "    for i in range(len(crimeForm)):\n",
    "        if crimeForm[i] == judge_crime:\n",
    "            print(crimeForm[i])\n",
    "            crimeCategory = str(crimeClassifyDocs.loc[i, '罪刑classify'])\n",
    "\n",
    "print(crimeCategory)"
   ]
  },
  {
   "cell_type": "code",
   "execution_count": 25,
   "metadata": {},
   "outputs": [],
   "source": [
    "def crimeToCategory(judge_crime):\n",
    "    classPath = '/Users/allentsai/python_web_scraping-master/judgement_file/judge案由分類/Crime_classify/Crime_總表.csv'\n",
    "    crimeClassifyDocs = pd.read_csv(classPath)\n",
    "    crimeCategory = pd.Series(['其它','其它',13] ) # 分類：其他 = 13\n",
    "    crimeForm = list(crimeClassifyDocs.loc[:, '罪名總表'])\n",
    "    # for i in range(len(crimeForm)):\n",
    "    #     if crimeForm[i] == judge_crime:\n",
    "    #         crimeCategory = str(crimeClassifyDocs.loc[i, '罪刑classify'])\n",
    "\n",
    "    if judge_crime in crimeForm:\n",
    "        for i in range(len(crimeForm)):\n",
    "            if crimeForm[i] == judge_crime:\n",
    "                print(crimeForm[i])\n",
    "                crimeCategory = crimeClassifyDocs.loc[i, :]\n",
    "    # else:\n",
    "    #     crimeCategory = '13'\n",
    "    return crimeCategory"
   ]
  },
  {
   "cell_type": "code",
   "execution_count": 32,
   "metadata": {},
   "outputs": [
    {
     "name": "stdout",
     "output_type": "stream",
     "text": [
      "而致重傷\n",
      "<class 'pandas.core.series.Series'>\n"
     ]
    },
    {
     "data": {
      "text/plain": [
       "2"
      ]
     },
     "execution_count": 32,
     "metadata": {},
     "output_type": "execute_result"
    }
   ],
   "source": [
    "# judge_crime = '傷害致重傷罪'\n",
    "judge_crime = '而致重傷'\n",
    "# judge_crime = '其它'\n",
    "classifier = crimeToCategory(judge_crime)\n",
    "print(type(classifier))\n",
    "classifier.iloc[2]"
   ]
  },
  {
   "cell_type": "code",
   "execution_count": null,
   "metadata": {},
   "outputs": [],
   "source": []
  },
  {
   "cell_type": "code",
   "execution_count": null,
   "metadata": {},
   "outputs": [],
   "source": []
  },
  {
   "cell_type": "code",
   "execution_count": null,
   "metadata": {},
   "outputs": [],
   "source": [
    "a = ['拘役參拾伍日','有期徒刑壹年捌月','零日','拘役壹佰壹拾日']\n",
    "judge_result = a[3]\n",
    "\n",
    "num = {\"零\":0,\"壹\":1, \"一\":1, \"貳\":2 , \"贰\":2, \"二\":2, \"參\":3, \"参\":3, \"叁\":3, \"叄\":3, \"三\":3, \"肆\":4, \"四\":4,  \"伍\":5, \"五\":5, \"陸\":6, \"六\":6, \"柒\":7, \"七\":7, \"捌\":8, \"八\":8, \"玖\":9, \"九\":9, \"拾\":10,\"十\":10, \"佰\":100, \"百\":100}\n",
    "unit = {\"年\": 365, \"月\": 30, \"日\": 1}\n",
    "\n",
    "transfer = []\n",
    "transfer2 = []\n",
    "transfer3 = []\n",
    "number = 0\n",
    "judge = []\n",
    "\n",
    "# 將每一筆判刑內容中文字逐一取出\n",
    "for j in judge_result:\n",
    "    # 將國字數字和單位轉換成數字list\n",
    "    if j in num:\n",
    "        transfer.append(num.get(j))\n",
    "    elif j in unit:\n",
    "        transfer.append(j)\n",
    "print(f'transfer={transfer}')\n",
    "# 將transfer list中數字做運算\n",
    "for n in transfer:\n",
    "    if n in unit:\n",
    "        transfer2.append(number)\n",
    "        transfer2.append(n)\n",
    "        number = 0\n",
    "    elif n == 100:\n",
    "        if number == 0:\n",
    "            number += 100\n",
    "        else:\n",
    "            number *= 100\n",
    "    elif n != 10:\n",
    "        number += n\n",
    "    elif n == 10:\n",
    "        if number == 0:\n",
    "            number += 10\n",
    "        else:\n",
    "            number *= 10\n",
    "\n",
    "print(f'transfer2={transfer2}')\n",
    "# 將數字和單位做運算\n",
    "for m in transfer2:\n",
    "    if m in unit:\n",
    "        number *= unit[m]\n",
    "        transfer3.append(number)\n",
    "        number = 0\n",
    "    else:\n",
    "        number += m\n",
    "print(f'transfer3={transfer3}')\n",
    "# 將刑期加總並加到csv中\n",
    "number = sum(transfer3)\n",
    "# return number\n",
    "print(f'number={number}',type(number))\n",
    "# judge.append(number)\n",
    "# print(judge)"
   ]
  },
  {
   "cell_type": "code",
   "execution_count": null,
   "metadata": {},
   "outputs": [],
   "source": [
    "__file__"
   ]
  },
  {
   "cell_type": "code",
   "execution_count": null,
   "metadata": {},
   "outputs": [],
   "source": [
    "t = 0\n",
    "def sum():\n",
    "    global t\n",
    "    t+=1\n",
    "    if t < 10:\n",
    "        print(t)\n",
    "        sum()\n",
    "    else:\n",
    "        return t\n",
    "    \n",
    "print(sum(),'\\n',t)"
   ]
  },
  {
   "cell_type": "code",
   "execution_count": null,
   "metadata": {},
   "outputs": [],
   "source": []
  },
  {
   "cell_type": "code",
   "execution_count": 2,
   "metadata": {},
   "outputs": [
    {
     "data": {
      "text/plain": [
       "['臺灣彰化地方法院_10年rawdata.json',\n",
       " '臺灣士林地方法院_10年rawdata.json',\n",
       " '臺灣花蓮地方法院_10年rawdata.json',\n",
       " '臺灣臺東地方法院_10年rawdata.json',\n",
       " '臺灣臺北地方法院_10年rawdata.json',\n",
       " '臺灣雲林地方法院_10年rawdata.json',\n",
       " '福建金門地方法院_10年rawdata.json',\n",
       " '臺灣新竹地方法院_10年rawdata.json',\n",
       " '福建連江地方法院_10年rawdata.json',\n",
       " '臺灣宜蘭地方法院_10年rawdata.json',\n",
       " '臺灣桃園地方法院_10年rawdata.json',\n",
       " '臺灣臺中地方法院_10年rawdata.json',\n",
       " '臺灣臺南地方法院_10年rawdata.json',\n",
       " '臺灣屏東地方法院_10年rawdata.json',\n",
       " '臺灣澎湖地方法院_10年rawdata.json',\n",
       " '臺灣苗栗地方法院_10年rawdata.json',\n",
       " '臺灣高雄地方法院_10年rawdata.json',\n",
       " '臺灣嘉義地方法院_10年rawdata.json',\n",
       " '臺灣橋頭地方法院_10年rawdata.json',\n",
       " '臺灣基隆地方法院_10年rawdata.json',\n",
       " '臺灣新北地方法院_10年rawdata.json',\n",
       " '臺灣南投地方法院_10年rawdata.json']"
      ]
     },
     "execution_count": 2,
     "metadata": {},
     "output_type": "execute_result"
    }
   ],
   "source": [
    "path = '/Users/allentsai/python_web_scraping-master/judgement_file/judge案由分類/各個地院_10年rawdata'\n",
    "jsfolderlist = os.listdir(path)\n",
    "jsfolderlist"
   ]
  },
  {
   "cell_type": "code",
   "execution_count": 3,
   "metadata": {},
   "outputs": [],
   "source": [
    "rawdatalist = []"
   ]
  },
  {
   "cell_type": "code",
   "execution_count": 5,
   "metadata": {},
   "outputs": [],
   "source": [
    "for i in jsfolderlist:\n",
    "    with open(f'{path}/{i}','r', encoding='utf-8-sig') as js:\n",
    "        strJs = js.read()\n",
    "    listJs = json.loads(strJs)\n",
    "    for j in range(len(listJs)):\n",
    "        rawdatalist.append({\n",
    "            'judge_court': listJs[j]['judge_court'],  # 判決法院\n",
    "            'judge_year': listJs[j]['judge_year'],  # 裁判年度\n",
    "            'judge_month': listJs[j]['judge_month'],  # 裁判月份\n",
    "            'judge_index': listJs[j]['judge_index'],  # 地院年度月份的第幾筆\n",
    "            'judge_title': listJs[j]['judge_title'],  # 裁判案由\n",
    "            'judge_NO': listJs[j]['judge_NO'],\n",
    "            'judge_link': listJs[j]['judge_link'],\n",
    "            'judge_content': listJs[j]['judge_content']\n",
    "        })\n",
    "    # print(f'{path}/{i}')"
   ]
  },
  {
   "cell_type": "code",
   "execution_count": 6,
   "metadata": {},
   "outputs": [],
   "source": [
    "with open(f'{path}/全地院10年rawdata.json','w',encoding='utf-8') as js:\n",
    "    js.write(json.dumps(rawdatalist, ensure_ascii=False))\n",
    "\n",
    "pd.DataFrame(rawdatalist).to_csv(f'{path}/全地院10年rawdata.csv', index=None, encoding='utf-8-sig')"
   ]
  },
  {
   "cell_type": "code",
   "execution_count": null,
   "metadata": {},
   "outputs": [],
   "source": []
  },
  {
   "cell_type": "code",
   "execution_count": null,
   "metadata": {},
   "outputs": [],
   "source": [
    "with open(f'{path}/{jsfolderlist[0]}','r', encoding='utf-8-sig') as js:\n",
    "    strJs = js.read()\n",
    "listSttest = json.loads(strJs)"
   ]
  },
  {
   "cell_type": "code",
   "execution_count": null,
   "metadata": {},
   "outputs": [],
   "source": [
    "listSttest[0]"
   ]
  },
  {
   "cell_type": "code",
   "execution_count": null,
   "metadata": {},
   "outputs": [],
   "source": []
  },
  {
   "cell_type": "code",
   "execution_count": null,
   "metadata": {},
   "outputs": [],
   "source": [
    "savepath = f'{path}/全地院10年rawdata'\n",
    "with open(f'{savepath}.json','w',encoding='utf-8') as jss:\n",
    "    jss.write(json.dumps(rawdatalist, ensure_ascii=False))\n",
    "\n",
    "# pd.DataFrame(rawdatalist).to_csv(f'{savepath}.csv', index=None, encoding='utf-8-sig')"
   ]
  },
  {
   "cell_type": "code",
   "execution_count": 7,
   "metadata": {},
   "outputs": [
    {
     "data": {
      "text/html": [
       "<div>\n",
       "<style scoped>\n",
       "    .dataframe tbody tr th:only-of-type {\n",
       "        vertical-align: middle;\n",
       "    }\n",
       "\n",
       "    .dataframe tbody tr th {\n",
       "        vertical-align: top;\n",
       "    }\n",
       "\n",
       "    .dataframe thead th {\n",
       "        text-align: right;\n",
       "    }\n",
       "</style>\n",
       "<table border=\"1\" class=\"dataframe\">\n",
       "  <thead>\n",
       "    <tr style=\"text-align: right;\">\n",
       "      <th></th>\n",
       "      <th>judge_court</th>\n",
       "      <th>judge_year</th>\n",
       "      <th>judge_month</th>\n",
       "      <th>judge_index</th>\n",
       "      <th>judge_title</th>\n",
       "      <th>judge_NO</th>\n",
       "      <th>judge_link</th>\n",
       "      <th>judge_content</th>\n",
       "    </tr>\n",
       "  </thead>\n",
       "  <tbody>\n",
       "    <tr>\n",
       "      <th>0</th>\n",
       "      <td>臺灣彰化地方法院</td>\n",
       "      <td>111</td>\n",
       "      <td>1</td>\n",
       "      <td>1</td>\n",
       "      <td>過失傷害</td>\n",
       "      <td>臺灣彰化地方法院 111 年度 交易 字第 132 號刑事判決</td>\n",
       "      <td>https://judgment.judicial.gov.tw/FJUD/data.asp...</td>\n",
       "      <td>主文:本件公訴不受理。理由一、公訴意旨略以：被告蔡宗翰於民國110年2月5日19時31分許，...</td>\n",
       "    </tr>\n",
       "    <tr>\n",
       "      <th>1</th>\n",
       "      <td>臺灣彰化地方法院</td>\n",
       "      <td>111</td>\n",
       "      <td>1</td>\n",
       "      <td>2</td>\n",
       "      <td>過失傷害</td>\n",
       "      <td>臺灣彰化地方法院 111 年度 交易 字第 116 號刑事判決</td>\n",
       "      <td>https://judgment.judicial.gov.tw/FJUD/data.asp...</td>\n",
       "      <td>主文:本件公訴不受理。理由一、聲請簡易判決處刑意旨略以：被告江宗杰於民國109年9月28日下...</td>\n",
       "    </tr>\n",
       "    <tr>\n",
       "      <th>2</th>\n",
       "      <td>臺灣彰化地方法院</td>\n",
       "      <td>111</td>\n",
       "      <td>1</td>\n",
       "      <td>3</td>\n",
       "      <td>過失傷害</td>\n",
       "      <td>臺灣彰化地方法院 111 年度 交易 字第 32 號刑事判決</td>\n",
       "      <td>https://judgment.judicial.gov.tw/FJUD/data.asp...</td>\n",
       "      <td>主文:本件公訴不受理。理由一、公訴意旨略以：被告蔡永昌於民國109年12月15日9時40分許...</td>\n",
       "    </tr>\n",
       "    <tr>\n",
       "      <th>3</th>\n",
       "      <td>臺灣彰化地方法院</td>\n",
       "      <td>111</td>\n",
       "      <td>1</td>\n",
       "      <td>4</td>\n",
       "      <td>過失傷害</td>\n",
       "      <td>臺灣彰化地方法院 111 年度 交簡 字第 195 號刑事判決</td>\n",
       "      <td>https://judgment.judicial.gov.tw/FJUD/data.asp...</td>\n",
       "      <td>主文:林燕輝犯汽車駕駛人無駕駛執照駕車過失傷害罪，處拘役參拾伍日，如易科罰金，以新臺幣壹仟元...</td>\n",
       "    </tr>\n",
       "    <tr>\n",
       "      <th>4</th>\n",
       "      <td>臺灣彰化地方法院</td>\n",
       "      <td>111</td>\n",
       "      <td>1</td>\n",
       "      <td>5</td>\n",
       "      <td>過失傷害</td>\n",
       "      <td>臺灣彰化地方法院 111 年度 交易 字第 109 號刑事判決</td>\n",
       "      <td>https://judgment.judicial.gov.tw/FJUD/data.asp...</td>\n",
       "      <td>主文:本件公訴不受理。理由一、公訴意旨略稱：被告劉文彬、許計文任職址設彰化縣○○市○○路00...</td>\n",
       "    </tr>\n",
       "  </tbody>\n",
       "</table>\n",
       "</div>"
      ],
      "text/plain": [
       "  judge_court  judge_year  judge_month  judge_index judge_title  \\\n",
       "0    臺灣彰化地方法院         111            1            1        過失傷害   \n",
       "1    臺灣彰化地方法院         111            1            2        過失傷害   \n",
       "2    臺灣彰化地方法院         111            1            3        過失傷害   \n",
       "3    臺灣彰化地方法院         111            1            4        過失傷害   \n",
       "4    臺灣彰化地方法院         111            1            5        過失傷害   \n",
       "\n",
       "                          judge_NO  \\\n",
       "0  臺灣彰化地方法院 111 年度 交易 字第 132 號刑事判決   \n",
       "1  臺灣彰化地方法院 111 年度 交易 字第 116 號刑事判決   \n",
       "2   臺灣彰化地方法院 111 年度 交易 字第 32 號刑事判決   \n",
       "3  臺灣彰化地方法院 111 年度 交簡 字第 195 號刑事判決   \n",
       "4  臺灣彰化地方法院 111 年度 交易 字第 109 號刑事判決   \n",
       "\n",
       "                                          judge_link  \\\n",
       "0  https://judgment.judicial.gov.tw/FJUD/data.asp...   \n",
       "1  https://judgment.judicial.gov.tw/FJUD/data.asp...   \n",
       "2  https://judgment.judicial.gov.tw/FJUD/data.asp...   \n",
       "3  https://judgment.judicial.gov.tw/FJUD/data.asp...   \n",
       "4  https://judgment.judicial.gov.tw/FJUD/data.asp...   \n",
       "\n",
       "                                       judge_content  \n",
       "0  主文:本件公訴不受理。理由一、公訴意旨略以：被告蔡宗翰於民國110年2月5日19時31分許，...  \n",
       "1  主文:本件公訴不受理。理由一、聲請簡易判決處刑意旨略以：被告江宗杰於民國109年9月28日下...  \n",
       "2  主文:本件公訴不受理。理由一、公訴意旨略以：被告蔡永昌於民國109年12月15日9時40分許...  \n",
       "3  主文:林燕輝犯汽車駕駛人無駕駛執照駕車過失傷害罪，處拘役參拾伍日，如易科罰金，以新臺幣壹仟元...  \n",
       "4  主文:本件公訴不受理。理由一、公訴意旨略稱：被告劉文彬、許計文任職址設彰化縣○○市○○路00...  "
      ]
     },
     "execution_count": 7,
     "metadata": {},
     "output_type": "execute_result"
    }
   ],
   "source": [
    "df = pd.read_csv('/Users/allentsai/python_web_scraping-master/judgement_file/judge案由分類/各個地院_10年rawdata/全地院10年rawdata.csv')\n",
    "df.head()"
   ]
  },
  {
   "cell_type": "code",
   "execution_count": null,
   "metadata": {},
   "outputs": [],
   "source": [
    "df.iloc[0,:]"
   ]
  },
  {
   "cell_type": "code",
   "execution_count": null,
   "metadata": {},
   "outputs": [],
   "source": [
    "with open(f'/Users/allentsai/python_web_scraping-master/judgement_file/judge案由分類/待處理/全地院10年rawdata.json','r', encoding='utf-8-sig') as js:\n",
    "    strJs = js.read()\n",
    "listJs = json.loads(strJs)"
   ]
  },
  {
   "cell_type": "code",
   "execution_count": null,
   "metadata": {},
   "outputs": [],
   "source": [
    "listJs[0]"
   ]
  },
  {
   "cell_type": "code",
   "execution_count": null,
   "metadata": {},
   "outputs": [],
   "source": [
    "len(listJs)"
   ]
  }
 ],
 "metadata": {
  "kernelspec": {
   "display_name": "Python 3.10.7 64-bit",
   "language": "python",
   "name": "python3"
  },
  "language_info": {
   "codemirror_mode": {
    "name": "ipython",
    "version": 3
   },
   "file_extension": ".py",
   "mimetype": "text/x-python",
   "name": "python",
   "nbconvert_exporter": "python",
   "pygments_lexer": "ipython3",
   "version": "3.10.7"
  },
  "orig_nbformat": 4,
  "vscode": {
   "interpreter": {
    "hash": "aee8b7b246df8f9039afb4144a1f6fd8d2ca17a180786b69acc140d282b71a49"
   }
  }
 },
 "nbformat": 4,
 "nbformat_minor": 2
}
